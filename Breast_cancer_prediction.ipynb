{
  "nbformat": 4,
  "nbformat_minor": 0,
  "metadata": {
    "colab": {
      "name": "Breast_cancer_prediction.ipynb",
      "provenance": [],
      "authorship_tag": "ABX9TyPqi3gjZBB9ju/k3ncC2fxh",
      "include_colab_link": true
    },
    "kernelspec": {
      "name": "python3",
      "display_name": "Python 3"
    }
  },
  "cells": [
    {
      "cell_type": "markdown",
      "metadata": {
        "id": "view-in-github",
        "colab_type": "text"
      },
      "source": [
        "<a href=\"https://colab.research.google.com/github/Thuli19/Packt_data_science/blob/master/Breast_cancer_prediction.ipynb\" target=\"_parent\"><img src=\"https://colab.research.google.com/assets/colab-badge.svg\" alt=\"Open In Colab\"/></a>"
      ]
    },
    {
      "cell_type": "code",
      "metadata": {
        "id": "a3O9vNoQE2yF",
        "colab_type": "code",
        "colab": {
          "base_uri": "https://localhost:8080/",
          "height": 34
        },
        "outputId": "a5312f09-34a7-488d-c2c5-5581c3e2ff4c"
      },
      "source": [
        "from sklearn.ensemble import RandomForestClassifier\n",
        "from sklearn.datasets import load_breast_cancer\n",
        "from sklearn.metrics import accuracy_score\n",
        "\n",
        "features, target = load_breast_cancer(return_X_y = True)\n",
        "\"\"\"\n",
        "print(features)\n",
        "print(target)\n",
        "\"\"\"\n",
        "seed = 888\n",
        "rf_breast_cancer_model = RandomForestClassifier(random_state=seed)\n",
        "rf_breast_cancer_model.fit(features, target)\n",
        "predicted_vals = rf_breast_cancer_model.predict(features)\n",
        "\n",
        "#print(predicted_vals)\n",
        "accuracy_score(target, predicted_vals)\n",
        "\n",
        "\n"
      ],
      "execution_count": 5,
      "outputs": [
        {
          "output_type": "execute_result",
          "data": {
            "text/plain": [
              "1.0"
            ]
          },
          "metadata": {
            "tags": []
          },
          "execution_count": 5
        }
      ]
    }
  ]
}