{
  "nbformat": 4,
  "nbformat_minor": 0,
  "metadata": {
    "colab": {
      "name": "spam_detector_rf.ipynb",
      "provenance": [],
      "authorship_tag": "ABX9TyPcsp84EtXrgHtwf1u89xVH",
      "include_colab_link": true
    },
    "kernelspec": {
      "name": "python3",
      "display_name": "Python 3"
    }
  },
  "cells": [
    {
      "cell_type": "markdown",
      "metadata": {
        "id": "view-in-github",
        "colab_type": "text"
      },
      "source": [
        "<a href=\"https://colab.research.google.com/github/Thuli19/Packt_data_science/blob/master/spam_detector_rf.ipynb\" target=\"_parent\"><img src=\"https://colab.research.google.com/assets/colab-badge.svg\" alt=\"Open In Colab\"/></a>"
      ]
    },
    {
      "cell_type": "code",
      "metadata": {
        "id": "PSD9Dwo5KDAD",
        "colab_type": "code",
        "colab": {
          "base_uri": "https://localhost:8080/",
          "height": 34
        },
        "outputId": "74a9fbf9-7356-42e6-f329-9e789571f261"
      },
      "source": [
        "import pandas as pd\n",
        "from sklearn.ensemble import RandomForestClassifier\n",
        "from sklearn.metrics import accuracy_score\n",
        "\n",
        "data_url = 'https://raw.githubusercontent.com/PacktWorkshops/The-Data-Science-Workshop/master/Chapter01/Dataset/dataset_44_spambase.csv'\n",
        "spam_data = pd.read_csv(data_url)\n",
        "target = spam_data.pop('class')\n",
        "#print(spam_data)\n",
        "\n",
        "seed = 56\n",
        "spam_rf_model = RandomForestClassifier(random_state = seed)\n",
        "\n",
        "spam_rf_model.fit(spam_data, target)\n",
        "predicted_spam_val = spam_rf_model.predict(spam_data)\n",
        "accuracy_score(target, predicted_spam_val)\n",
        "\n",
        "\n",
        "\n"
      ],
      "execution_count": 2,
      "outputs": [
        {
          "output_type": "execute_result",
          "data": {
            "text/plain": [
              "0.9991306237774397"
            ]
          },
          "metadata": {
            "tags": []
          },
          "execution_count": 2
        }
      ]
    }
  ]
}