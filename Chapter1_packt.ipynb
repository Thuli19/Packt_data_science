{
 "cells": [
  {
   "cell_type": "markdown",
   "metadata": {
    "colab_type": "text",
    "id": "view-in-github"
   },
   "source": [
    "<a href=\"https://colab.research.google.com/github/Thuli19/Packt_data_science/blob/master/Chapter1_packt.ipynb\" target=\"_parent\"><img src=\"https://colab.research.google.com/assets/colab-badge.svg\" alt=\"Open In Colab\"/></a>"
   ]
  },
  {
   "cell_type": "code",
   "execution_count": 2,
   "metadata": {
    "colab": {
     "base_uri": "https://localhost:8080/",
     "height": 34
    },
    "colab_type": "code",
    "id": "LVD6E7BHS9-O",
    "outputId": "cc37a4ee-dff8-41a4-d464-2ee98613a762"
   },
   "outputs": [
    {
     "name": "stdout",
     "output_type": "stream",
     "text": [
      "[12, 'Maka', 23.9, 'd']\n"
     ]
    }
   ],
   "source": [
    "cats = [12, \"Cuddler\", 23.90, 'd'] \n",
    "print(cats)"
   ]
  },
  {
   "cell_type": "code",
   "execution_count": 5,
   "metadata": {
    "colab": {
     "base_uri": "https://localhost:8080/",
     "height": 119
    },
    "colab_type": "code",
    "id": "s9TPfYu4fFuw",
    "outputId": "ddea17f3-88f4-42f7-f25b-757ab3a9a3d1"
   },
   "outputs": [
    {
     "name": "stdout",
     "output_type": "stream",
     "text": [
      "['Linear regression', 'Logistic regression', 'Random Forest', 'a3c', 'k-means']\n",
      "['Supervised', 'Supervised', 'Supervised', 'Reinforcement', 'Unsupervised']\n",
      "['Regression', 'Classification', 'Regression or classification', 'Game AI', 'Clustering']\n",
      "['Linear regression', 'Logistic regression', 'Random Forest', 'k-means']\n",
      "['Supervised', 'Supervised', 'Supervised', 'Unsupervised']\n",
      "['Regression', 'Classification', 'Regression or classification', 'Clustering']\n"
     ]
    }
   ],
   "source": [
    "algorithm = ['Linear regression', 'Logistic regression', 'Random Forest', 'a3c']\n",
    "learning = ['Supervised', 'Supervised', 'Supervised', 'Reinforcement']\n",
    "algorithm_type = ['Regression', 'Classification', 'Regression or classification', 'Game AI']\n",
    "\n",
    "algorithm.append('k-means')\n",
    "print(algorithm)\n",
    "\n",
    "learning.append('Unsupervised')\n",
    "print(learning)\n",
    "\n",
    "algorithm_type.append('Clustering')\n",
    "print(algorithm_type)\n",
    "\n",
    "machine_learning = {}\n",
    "machine_learning['Algorithm'] = algorithm\n",
    "machine_learning['Algorithm'].remove('a3c')\n",
    "print(machine_learning['Algorithm'])\n",
    "\n",
    "machine_learning['Learning'] = learning\n",
    "machine_learning['Learning'].remove('Reinforcement')\n",
    "print(machine_learning['Learning'])\n",
    "\n",
    "machine_learning['Algorithm_type'] = algorithm_type\n",
    "machine_learning['Algorithm_type'].remove('Game AI')\n",
    "print(machine_learning['Algorithm_type'])\n"
   ]
  },
  {
   "cell_type": "code",
   "execution_count": 5,
   "metadata": {},
   "outputs": [
    {
     "name": "stdout",
     "output_type": "stream",
     "text": [
      "[34 67 89 90]\n",
      "This is a plastic broom and you have 45 brooms Pinky.\n"
     ]
    }
   ],
   "source": [
    "import math\n",
    "import numpy as np\n",
    "\n",
    "# This must show on git \n",
    "\n",
    "brooms = np.array([34, 67, 89, 90])\n",
    "print(brooms)\n",
    "\n",
    "class Brooms:\n",
    "    \"\"\"This class will be used to create brooms.\"\"\"\n",
    "    \n",
    "    def __init__(self, num, name, kind='wood'):\n",
    "        self.num = num\n",
    "        self.name = name\n",
    "        self.kind = kind\n",
    "        \n",
    "    def __repr__(self):\n",
    "        return f\"This is a {self.kind} broom and you have {self.num} brooms {self.name}.\"\n",
    "    \n",
    "pinky = Brooms(45, 'Pinky', 'plastic')\n",
    "print(pinky)\n"
   ]
  },
  {
   "cell_type": "code",
   "execution_count": null,
   "metadata": {},
   "outputs": [],
   "source": []
  }
 ],
 "metadata": {
  "colab": {
   "authorship_tag": "ABX9TyPBNKL7gWeCLxdZV+nzVD3R",
   "collapsed_sections": [],
   "include_colab_link": true,
   "name": "Chapter1_packt.ipynb",
   "provenance": []
  },
  "kernelspec": {
   "display_name": "Python 3",
   "language": "python",
   "name": "python3"
  },
  "language_info": {
   "codemirror_mode": {
    "name": "ipython",
    "version": 3
   },
   "file_extension": ".py",
   "mimetype": "text/x-python",
   "name": "python",
   "nbconvert_exporter": "python",
   "pygments_lexer": "ipython3",
   "version": "3.8.3"
  }
 },
 "nbformat": 4,
 "nbformat_minor": 1
}
