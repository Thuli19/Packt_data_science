{
  "nbformat": 4,
  "nbformat_minor": 0,
  "metadata": {
    "colab": {
      "name": "Chapter1_packt.ipynb",
      "provenance": [],
      "authorship_tag": "ABX9TyPLb6QegFqcM059CVpjhzS6",
      "include_colab_link": true
    },
    "kernelspec": {
      "name": "python3",
      "display_name": "Python 3"
    }
  },
  "cells": [
    {
      "cell_type": "markdown",
      "metadata": {
        "id": "view-in-github",
        "colab_type": "text"
      },
      "source": [
        "<a href=\"https://colab.research.google.com/github/Thuli19/Packt_data_science/blob/master/Chapter1_packt.ipynb\" target=\"_parent\"><img src=\"https://colab.research.google.com/assets/colab-badge.svg\" alt=\"Open In Colab\"/></a>"
      ]
    },
    {
      "cell_type": "code",
      "metadata": {
        "id": "LVD6E7BHS9-O",
        "colab_type": "code",
        "colab": {
          "base_uri": "https://localhost:8080/",
          "height": 34
        },
        "outputId": "cc37a4ee-dff8-41a4-d464-2ee98613a762"
      },
      "source": [
        "cats = [12, \"Maka\", 23.90, 'd'] \n",
        "print(cats)"
      ],
      "execution_count": 2,
      "outputs": [
        {
          "output_type": "stream",
          "text": [
            "[12, 'Maka', 23.9, 'd']\n"
          ],
          "name": "stdout"
        }
      ]
    },
    {
      "cell_type": "code",
      "metadata": {
        "id": "s9TPfYu4fFuw",
        "colab_type": "code",
        "colab": {
          "base_uri": "https://localhost:8080/",
          "height": 119
        },
        "outputId": "ddea17f3-88f4-42f7-f25b-757ab3a9a3d1"
      },
      "source": [
        "algorithm = ['Linear regression', 'Logistic regression', 'Random Forest', 'a3c']\n",
        "learning = ['Supervised', 'Supervised', 'Supervised', 'Reinforcement']\n",
        "algorithm_type = ['Regression', 'Classification', 'Regression or classification', 'Game AI']\n",
        "\n",
        "algorithm.append('k-means')\n",
        "print(algorithm)\n",
        "\n",
        "learning.append('Unsupervised')\n",
        "print(learning)\n",
        "\n",
        "algorithm_type.append('Clustering')\n",
        "print(algorithm_type)\n",
        "\n",
        "machine_learning = {}\n",
        "machine_learning['Algorithm'] = algorithm\n",
        "machine_learning['Algorithm'].remove('a3c')\n",
        "print(machine_learning['Algorithm'])\n",
        "\n",
        "machine_learning['Learning'] = learning\n",
        "machine_learning['Learning'].remove('Reinforcement')\n",
        "print(machine_learning['Learning'])\n",
        "\n",
        "machine_learning['Algorithm_type'] = algorithm_type\n",
        "machine_learning['Algorithm_type'].remove('Game AI')\n",
        "print(machine_learning['Algorithm_type'])\n"
      ],
      "execution_count": 5,
      "outputs": [
        {
          "output_type": "stream",
          "text": [
            "['Linear regression', 'Logistic regression', 'Random Forest', 'a3c', 'k-means']\n",
            "['Supervised', 'Supervised', 'Supervised', 'Reinforcement', 'Unsupervised']\n",
            "['Regression', 'Classification', 'Regression or classification', 'Game AI', 'Clustering']\n",
            "['Linear regression', 'Logistic regression', 'Random Forest', 'k-means']\n",
            "['Supervised', 'Supervised', 'Supervised', 'Unsupervised']\n",
            "['Regression', 'Classification', 'Regression or classification', 'Clustering']\n"
          ],
          "name": "stdout"
        }
      ]
    }
  ]
}